{
 "cells": [
  {
   "cell_type": "markdown",
   "metadata": {},
   "source": [
    "### <font face=\"georgia\"><p style = 'text-align: center;'> Computational Guided Inquiry for PChem (Guasco & Neshyba, 2022)</p>\n",
    "\n",
    "# <font face=\"georgia\"><p style = 'text-align: center;'> Visualizing <em>U(V,T)</em>\n",
    "\n",
    "<font face=\"georgia\">**OBJECTIVE**: Build intuition about _U_(_V_,_T_) as a thermodynamic surface."
   ]
  },
  {
   "cell_type": "markdown",
   "metadata": {},
   "source": [
    "<font face=\"georgia\">**What to do in preparation for this activity:** \n",
    "\n",
    "1. Read the Introduction below.\n",
    "<br>\n",
    "2. For your prelab, have ready to turn a single piece of paper with the following information:  \n",
    "• Equations 1-5 labeled to indicate what each equation is.  \n",
    "• Calculated values for the constant-volume heat capacity ($C_V$) and internal pressure ($\\pi_T$) of a monatomic perfect gas.  \n",
    "3. Prepare your lab notebook (the physical notebook) with a table of contents entry and a starting page for this activity. Don't forget to bring the notebook with you to class.\n"
   ]
  },
  {
   "cell_type": "markdown",
   "metadata": {},
   "source": [
    "## <font face = \"georgia\"> Introduction\n",
    "\n",
    "<font face = \"georgia\">Internal energy is usually written as a function of V and T, designated by the notation U=U(V,T). Conceptually, this energy is very straightforward: it is the sum of the kinetic and potential energies of all molecules in a given sample. For an ideal, monatomic gas, the internal energy depends linearly on the temperature,\n",
    "\n",
    "<p style='text-align: right;'>\n",
    "$ U_{ideal}(V,T) = \\dfrac{3}{2} RT \\times n $\n",
    "$\\qquad\\qquad\\qquad\\qquad\\qquad\\qquad\\qquad\\qquad\\qquad  (1) $\n",
    "</p>\n",
    "\n",
    "where n is the number of moles in a gas sample, and R is the universal gas constant. The form of Eq. 1 can be deduced from the equipartition theorem: since the atoms making up a monatomic ideal gas have, on average, 1/2 RT of translational kinetic energy for each of three spatial dimensions, the total is 3/2 RT (per mole).\n",
    "\n"
   ]
  },
  {
   "cell_type": "markdown",
   "metadata": {},
   "source": [
    "<font face = \"georgia\">Like atoms, molecules are able to store energy as translational motion, but they can store additional energy by rotating and vibrating. Their internal energies are larger as a result. We can write this as\n",
    "\n",
    "<p style='text-align: right;'>\n",
    "$ U_{ideal}(V,T) = [\\dfrac{3}{2} RT + f_{rot}(T) + f_{vib}(T)] \\times n $\n",
    "$\\qquad\\qquad\\qquad\\qquad\\qquad\\qquad\\qquad  (2) $\n",
    "</p>\n",
    "\n",
    "where $f_{rot}$ and $f_{vib}$ are functions of temperature only. Typically, $f_{rot}$ also depends linearly on temperature (like the translational part). However, $f_{vib}$  generally has a nonlinear temperature dependence. That’s a quantum-mechanical phenomenon, as it turns out: as temperature increases, more kinds (“modes”) of vibrational motion become thermally accessible. In practice, this means if you make a graph of U as a function of T, for atoms you can expect a straight line, but for molecules you can expect some curvature! An experimentally-derived example of _U_ as a function of _T_ for fluorine ($F_2$) gas is shown in Fig. 1. Careful inspection will reveal a slight curvature in this plot: the slope increases with increasing temperature, implying a nonlinear temperature dependence.\n"
   ]
  },
  {
   "cell_type": "markdown",
   "metadata": {},
   "source": [
    "<font face = \"georgia\">\n",
    "<p style ='text-align: center;'>\n",
    "<img src=\"http://webspace.pugetsound.edu/facultypages/nesh/Notebook/UVT figure 1.png\" height=\"400\" width=\"400\"/>  \n",
    "<strong>Figure 1</strong>. Internal energy of fluorine gas as a function of temperature.\n",
    "</p>\n"
   ]
  },
  {
   "cell_type": "markdown",
   "metadata": {},
   "source": [
    "<font face = \"georgia\"> You may have noticed there isn’t any volume dependence in Eqs. 1 and 2. There is a physical meaning behind this idea: since the ideal gas law neglects molecular size and intermolecular attractions, we say that the atoms or molecules in an ideal gas don’t know about one another. So you can think of Eqs. 1 and 2 as being the energy of n moles of isolated, non-interacting gas molecules.\n",
    "\n",
    "What happens in real molecular gases, where gaseous molecules do interact with one another? When two gas molecules approach one another from a distance, their first interaction is a mutual attraction. When they get too close, however, they push apart. This behavior can be expressed by an intermolecular potential energy, which depends on the distance between molecules (_r_), as indicated in Fig. 2.\n",
    "\n",
    "<p style ='text-align: left;'>\n",
    "<img src=\"http://chemwiki.ucdavis.edu/@api/deki/files/8915/Figure_C.jpg\" height=\"400\" width=\"400\"/>  \n",
    "<strong>Figure 2</strong>. Intermolecular potential energy between two gas molecules as a function of the intermolecular distance _r_.$^1$\n",
    "</p>\n",
    "\n"
   ]
  },
  {
   "cell_type": "markdown",
   "metadata": {},
   "source": [
    "<font face = \"georgia\">We can revise our internal energy expression of an ideal gas to reflect this, as\n",
    "\n",
    "<p style='text-align: right;'>\n",
    "$ U_{real}(V,T) = [\\dfrac{3}{2} RT + f_{rot}(T) + f_{vib}(T)+ f_{intermol}(V,T)] \\times n $\n",
    "$\\qquad\\qquad\\qquad\\qquad\\qquad  (3) $\n",
    "</p>\n",
    "\n",
    "where $f_{intermol}$ represents the sum of all the intermolecular interactions at any given instant in time. Will $U_{real}$ be bigger or smaller than $U_{ideal}$? That depends on the sign of $f_{intermol}$, which depends on how close the molecules are to each other (as Fig. 2 shows). That, in turn, depends on the volume in which the molecules are confined: \n",
    "\n",
    "• For large volumes, molecules will be very far apart (extreme right in Fig. 2), so we can expect $f_{intermol} \\approx 0$. Since the only difference between $U_{real}$ and $U_{ideal}$ is $f_{intermol}$, we can predict that $U_{real} \\approx U_{ideal}$, i.e., real gases will tend to behave as ideal gases.  \n",
    "\n",
    "• For intermediate volumes, molecules will be at an intermediate distance from one another (the middle region in Fig. 2), so we can expect $f_{intermol}<0$. That means we can predict that $U_{real} < U_{ideal}$.  \n",
    "\n",
    "• For small volumes, there will be a lot of molecules close to one another (the region at the extreme left in Fig. 2), so we can expect $f_{intermol} > 0$. That means we can predict that $U_{real}>U_{ideal}$.  \n",
    "\n",
    "\n",
    " \n",
    "\n"
   ]
  },
  {
   "cell_type": "markdown",
   "metadata": {},
   "source": [
    "<font face = \"georgia\">So the upshot is, we can expect ideal gas equations to be a good approximation to real gas behavior when the gas is placed in a large volume, but not when the gas is confined to a small volume. A different line of thinking (not obvious from the present considerations) leads to the expectation that the ideal gas law should work well at high temperature, but not at low temperature. In fact, as you know, gases condense to liquids at low enough temperatures. This is due to the intermolecular attractions seen in Fig. 2.\n",
    "\n",
    "You can imagine that it’s a bit difficult to get an intuitive handle on equations like these. That’s where thermodynamic surfaces come in handy. Figure 3 shows $U(V,T)$ of a real gas. You can see some of the behaviors expected of all gases (i.e., increasing $U$ with increasing temperature), and some of the behaviors expected specifically of real gases (see the low-volume part of state space).\n",
    "\n",
    "<p style ='text-align: center;'>\n",
    "<img src=\"http://webspace.pugetsound.edu/facultypages/nesh/Notebook/UVT figure 3.png\" height=\"400\" width=\"400\"/>  \n",
    "<strong>Figure 3</strong>. Thermodynamic surface of the internal energy, $U$, of a gas as a function of volume and temperature.\n",
    "</p>\n"
   ]
  },
  {
   "cell_type": "markdown",
   "metadata": {},
   "source": [
    "<font face = \"georgia\">It turns out that physical chemists don’t usually measure $U(V,T)$ directly. But we can measure (or predict) the slopes of these functions. The slope in the volume direction is a quantity called the internal pressure (mainly because it has units of pressure),\n",
    "\n",
    "<p style='text-align: right;'>\n",
    "$ \\pi_T =  (\\dfrac{\\partial U}{\\partial V})_T $\n",
    "$\\qquad\\qquad\\qquad\\qquad\\qquad\\qquad\\qquad\\qquad\\qquad  (4) $\n",
    "</p>\n",
    "\n",
    "The 19th century physicist (and brewer!) James Joule$^2$ was the first to measure $\\pi_T$ for gases. He got a value that was very small, but the uncertainty in his result was too great to make meaningful statements about it. We now know that, while small, $\\pi_T$ is nonzero for typical gases. The slope in the temperature direction is the constant-volume heat capacity, \n",
    "\n",
    "<p style='text-align: right;'>\n",
    "$ C_V =  (\\dfrac{\\partial U}{\\partial T})_V $\n",
    "$\\qquad\\qquad\\qquad\\qquad\\qquad\\qquad\\qquad\\qquad\\qquad  (5) $\n",
    "</p>\n",
    "\n",
    "which is readily measurable: you put some gas in a fixed-volume container, heat it up, and measure how much the temperature goes up. Of course, we can also predict $C_V$ mathematically by taking the partial derivative of $U(V,T)$, if we have an explicit expression for it (as in Eq. 1).\n",
    "\n",
    "Normally, physical chemists reconstruct thermodynamic surfaces like the one shown in Fig. 3 from measurements of $\\pi_T$ and $C_V$. For this activity, however, we’re interested in building intuition, so you’ll do the reverse: you’ll infer $\\pi_T$ and $C_V$ by inspecting thermodynamic surfaces $U(V,T)$. From that, you’ll be able to tell whether a gas is ideal monatomic, ideal molecular, or real.\n",
    "\n"
   ]
  },
  {
   "cell_type": "markdown",
   "metadata": {},
   "source": [
    "## <font face = \"georgia\">References  \n",
    "<font face = \"georgia\"><p style='text-align: left;'>\n",
    "(1) Wikipedia Lennard-Jones Potential - ChemWiki http://chemwiki.ucdavis.edu/Physical_Chemistry/Quantum_Mechanics/Atomic_Theory/Intermolecular_Forces/Lennard-Jones_Potential (accessed Aug 24, 2013).  \n",
    "(2) Wikipedia James Prescott Joule - Wikipedia, the free encyclopedia http://en.wikipedia.org/wiki/James_Prescott_Joule (accessed Aug 24, 2013).  \n",
    "</p>"
   ]
  },
  {
   "cell_type": "markdown",
   "metadata": {
    "collapsed": true
   },
   "source": [
    "## <font face = \"georgia\">In-class activities  "
   ]
  },
  {
   "cell_type": "code",
   "execution_count": null,
   "metadata": {
    "collapsed": true
   },
   "outputs": [],
   "source": [
    "import numpy as np\n",
    "import matplotlib.pyplot as plt\n",
    "from mpl_toolkits.mplot3d import axes3d\n",
    "%matplotlib notebook"
   ]
  },
  {
   "cell_type": "markdown",
   "metadata": {},
   "source": [
    "<font face = \"georgia\">Load the datasets"
   ]
  },
  {
   "cell_type": "code",
   "execution_count": null,
   "metadata": {},
   "outputs": [],
   "source": [
    "# Load the thermodynamic state space\n",
    "V = np.loadtxt('V.txt') # In m^3\n",
    "T = np.loadtxt('T.txt') # In K\n",
    "\n",
    "# Load the state functions (In kJ/mol ... rows are for volume, columns are for temperature)\n",
    "Ugrid1 = np.loadtxt('Ugrid1.txt')  \n",
    "Ugrid2 = np.loadtxt('Ugrid2.txt') \n",
    "Ugrid3 = np.loadtxt('Ugrid3.txt')\n"
   ]
  },
  {
   "cell_type": "markdown",
   "metadata": {},
   "source": [
    "<font face = \"georgia\">Graph the 5-liter isochore as a function of temperature, for each gas (superimposed on one graph). There are 50 rows in each $U(V,T)$ grid file, each corresponding to a different volume. **Row #23** corresponds to about 5 liters. You slice an isochore from the surface by specifying just that row, and all the temperatures with a colon (e.g., Ugrid[23,:]). Plot that slice with appropriate temperature labels, and add a legend so you can keep track of which curve is which. The cell below is setup to plot isochores of gases 1 and 2, **you need to update the cell to include a plot of gas 3.**"
   ]
  },
  {
   "cell_type": "code",
   "execution_count": null,
   "metadata": {},
   "outputs": [],
   "source": [
    "# Extract all the columns (temperatures) for a given row (volume)\n",
    "row = 1\n",
    "UofT1 = Ugrid1[row,:]\n",
    "UofT2 = Ugrid2[row,:]\n",
    "#UofT3 =\n",
    "\n",
    "# Plot as a regular 2-d plot\n",
    "plt.figure()\n",
    "plt.plot(T, UofT1)\n",
    "plt.plot(T, UofT2)\n",
    "#plt.plot\n",
    "plt.legend(['gas 1','gas 2'])  #Make sure to update the legend to include gas 3\n"
   ]
  },
  {
   "cell_type": "markdown",
   "metadata": {},
   "source": [
    "#### <font face = \"georgia\">Pause for Analysis #1. One of the supplied $U(V,T)$ thermodynamic surfaces corresponds to an _ideal monatomic gas_ – as indicated by the fact that $C_V$ is constant. Which is it? For the gases that have non-constant heat capacities, does the heat capacity increase or decrease with temperature? What is the physical reason for this change?"
   ]
  },
  {
   "cell_type": "markdown",
   "metadata": {},
   "source": [
    "<font face = \"georgia\">Now graph the 300-K isotherm as a function of volume, for each gas (also superimposed on one graph). **Column #49** corresponds to 300 K. Note, that here you will be plotting all of the rows for a given column, as opposed to all of the columns for a given row, which is what you did above. Therefore, there will be a slight change in syntax."
   ]
  },
  {
   "cell_type": "code",
   "execution_count": null,
   "metadata": {},
   "outputs": [],
   "source": [
    "# Extract all the rows (volumes) for a given column (temperatures)\n",
    "\n",
    "# Plot as a regular 2-d plot\n"
   ]
  },
  {
   "cell_type": "markdown",
   "metadata": {},
   "source": [
    "#### <font face = \"georgia\">Pause for Analysis #2. One of the supplied $U(V,T)$ thermodynamic surfaces corresponds to a real gas, as indicated by the fact that $\\pi_T \\neq 0$. Which is it? How do you know?"
   ]
  },
  {
   "cell_type": "markdown",
   "metadata": {},
   "source": [
    "<font face = \"georgia\">Next, get a thermodynamic surface of the internal energy of each gas. First you'll need to make gridded forms of the state space."
   ]
  },
  {
   "cell_type": "code",
   "execution_count": null,
   "metadata": {},
   "outputs": [],
   "source": [
    "Tgrid, Vgrid = np.meshgrid(T,V)"
   ]
  },
  {
   "cell_type": "markdown",
   "metadata": {},
   "source": [
    "<font face = \"georgia\">Now plot the three thermodynamic surfaces $U(V,T)$."
   ]
  },
  {
   "cell_type": "code",
   "execution_count": null,
   "metadata": {},
   "outputs": [],
   "source": [
    "# Plot surface 1\n",
    "ax = plt.figure().add_subplot(projection='3d') # Set up a three dimensional graphics window \n",
    "ax.plot_surface(Tgrid, Vgrid*1e3, Ugrid1, color='blue') # Make the mesh plot\n",
    "ax.set_ylabel('V (L)') # Label axes\n",
    "ax.set_xlabel('T (K)')\n",
    "ax.set_zlabel('U (kJ/mol)')\n",
    "\n",
    "# Plot surface 2\n",
    "\n",
    "# Plot surface 3\n"
   ]
  },
  {
   "cell_type": "markdown",
   "metadata": {},
   "source": [
    "#### <font face = \"georgia\">Pause for Analysis #3. Sketch the surface corresponding to a real gas in your lab notebook. On your sketch, highlight the isochore and isotherm you sliced out in steps 1 and 2, and locations in state space at which large differences with respect to ideal gas behavior occur."
   ]
  },
  {
   "cell_type": "markdown",
   "metadata": {},
   "source": [
    "<font face = \"georgia\">Manipulate Eqs. 2 and 3 to come up with an expression for $f_{intermol}$ in terms of $U(V,T)$ of the real molecular gas and the ideal molecular gas. Use your formula to calculate $f_{intermol}$ and display it as a thermodynamic surface (as figure window 4)."
   ]
  },
  {
   "cell_type": "code",
   "execution_count": null,
   "metadata": {},
   "outputs": [],
   "source": [
    "# Calculate f \n",
    "\n",
    "# Display it as a thermodynamic surface\n"
   ]
  },
  {
   "cell_type": "markdown",
   "metadata": {},
   "source": [
    "#### <font face = \"georgia\">Pause for Analysis #4. Examine $f_{intermol}$ closely. Make a sketch of it in your notebook. Based on your examination, you might find that it could well have written $f_{intermol}(T)$ or $f_{intermol}(V)$ in Eq. 3. Which is the more appropriate description?"
   ]
  },
  {
   "cell_type": "markdown",
   "metadata": {},
   "source": [
    "## <font face=\"georgia\">Due by the following class meeting \n",
    "\n",
    "<font face = \"georgia\">\n",
    "1. Your lab notebook, which contains:<br>\n",
    "• Any sketches of graphs you were instructed to include.<br>\n",
    "• Your responses to the \"Pause for Analysis\" items.<br>\n",
    "2. Your Python notebook (the .ipynb file) placed in your Dropbox folder. I will look at your file for evidence of mastery of the computational methods embedded in the exercise: whether the notebook is complete and your results accurate."
   ]
  }
 ],
 "metadata": {
  "kernelspec": {
   "display_name": "Python 3",
   "language": "python",
   "name": "python3"
  },
  "language_info": {
   "codemirror_mode": {
    "name": "ipython",
    "version": 3
   },
   "file_extension": ".py",
   "mimetype": "text/x-python",
   "name": "python",
   "nbconvert_exporter": "python",
   "pygments_lexer": "ipython3",
   "version": "3.8.3"
  }
 },
 "nbformat": 4,
 "nbformat_minor": 1
}
