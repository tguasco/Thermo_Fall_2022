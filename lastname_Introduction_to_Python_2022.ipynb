{
 "cells": [
  {
   "cell_type": "markdown",
   "metadata": {},
   "source": [
    "### <font face=\"georgia\"><p style = 'text-align: center;'> Computational Guided Inquiry for PChem (Guasco 2022)</p>\n",
    "\n",
    "# <p style = 'text-align: center;'> <font face=\"georgia\"> Getting Started in Python</p>\n",
    "\n",
    "<font face=\"georgia\">**OBJECTIVE**: Learn the basics of Python programming\n",
    "\n",
    "**SELF-ASSESSMENTS**:\n",
    "\n",
    "1. State what the functions <em>print, linspace, shape, and plot</em> do. Give examples of each written in proper Python syntax and with an explanation in plain English what you would accomplish if you ran that code.\n",
    "\n",
    "## Introduction\n",
    "\n",
    "Python is a widely used, open source programming language developed by Guido van Rossum. It was first released in 1991. Python is a great language for beginner programmers because it was designed with the newcomer in mind. Python was designed to be readable and it has a simple and consistent syntax. Additionally, Python has a very extensive section of mathematical and scientific libraries. These libraries contain code that has already been written to perform specific tasks so you just need to know how to call the library rather than write the code itself. Lastly, as you noticed when you downloaded this software package, Python is free.\n",
    "\n",
    "Here the basic plan is for you to get used to some of the basics of Python usage: how to use it as a fancy calculator, how to make simple plots, and how to debug when you get an error.\n",
    "\n",
    "You should also come in with your lab notebook (the physical notebook), which you’ll use for taking notes as you do the activity. It’s best to set up a table of contents and a starting page for this activity. Duplicate your prelab information on the starting page.\n",
    "\n",
    "### <p style = 'text-align: center;'>Due by the following class meeting (Monday)</p>    \n",
    "• Deliver your python notebook (the .ipynb file) in electronic form. I will be looking for evidence of your mastery of the computational methods embedded in the exercise: whether the notebook is complete and your results accurate.  \n",
    "• Hand in your lab notebook. I will be looking for evidence of thoughtful engagement in the self assessments and pause for analysis questions."
   ]
  },
  {
   "cell_type": "markdown",
   "metadata": {},
   "source": [
    "### <font face=\"georgia\"><p style = 'text-align: center;'> In-class activities \n",
    "\n",
    "<font face=\"georgia\">The first thing that we will do is import some libraries of functions that we will use for numerical operations and plotting. That is what the cell below does. You can execute the cell by clicking in the box and pressing Shift and Enter at the same time."
   ]
  },
  {
   "cell_type": "code",
   "execution_count": null,
   "metadata": {},
   "outputs": [],
   "source": [
    "#Load numpy (for numerical operations) and matplotlib.pyplot for plotting\n",
    "import numpy as np\n",
    "import matplotlib.pyplot as plt"
   ]
  },
  {
   "cell_type": "markdown",
   "metadata": {},
   "source": [
    "<font face=\"georgia\">The first program that many people learn to write is a \"Hello, world!\" program. The purpose of this program is to get your program to output the phrase Hello, world! The code cell below contains the code to successfully run such a program in Python. You can run this cell by pressing Shift and Enter at the same time."
   ]
  },
  {
   "cell_type": "code",
   "execution_count": null,
   "metadata": {},
   "outputs": [],
   "source": [
    "print (\"Hello, world!\")"
   ]
  },
  {
   "cell_type": "markdown",
   "metadata": {},
   "source": [
    "<font face=\"georgia\">As you can see, in Python this is a relatively simple task. We wanted to print a statement (Hello, world!) and we only needed to type the word print and then put the phrase in quotation marks. The quotation marks are how you make a <em>string</em> in Python. A string is text data as opposed to numerical data.\n",
    "<br>\n",
    "<br>\n",
    "Use the code cell below to output the following two statements (remember you need to make the text a string):\n",
    "<br><br>\n",
    "My name is first name last name.  (Make sure to actually put in your first and last names)\n",
    "<br>\n",
    "I am excited to learn Physical Chemistry. "
   ]
  },
  {
   "cell_type": "code",
   "execution_count": null,
   "metadata": {},
   "outputs": [],
   "source": []
  },
  {
   "cell_type": "markdown",
   "metadata": {},
   "source": [
    "<font face = \"georgia\">As mentioned above, strings are the data type used for text. When we want to work with numbers, we will use either integers or floating point numbers. Integers are whole numbers. Floating point numbers are ones where the number of figures to the right of the decimal varies based upon the value of the floating point number. If a whole number is written with no decimal point then Python treats it as an integer. If a number is written with a decimal point then Python treats it as a floating point number. We can easily perform the 4 basic mathematical operations using Python. "
   ]
  },
  {
   "cell_type": "code",
   "execution_count": null,
   "metadata": {},
   "outputs": [],
   "source": [
    "#Addition\n",
    "print (5 + 10) #integer\n",
    "print (5.0 + 10.0) #floating point"
   ]
  },
  {
   "cell_type": "markdown",
   "metadata": {},
   "source": [
    "<font face = \"georgia\">A few things to note about the cell above: \n",
    "<br>\n",
    "<br>\n",
    "1) We have used the pound symbol (#) a few times in the cell. This symbol is used to indicate a _comment_. Comments are used to annotate your code to make them easier to read and understand. I have placed the comment Addition at the top so that you knew I would be performing that operation in that cell. I have also annotated the next two lines to indicate that I was adding integers and floating point numbers in the 2nd and 3rd lines, respectively. When you use the pound symbol, everything to the right of it is ignored by Python. If I hadn't used the pound symbols and had instead just tried to write Addition, integer, or floating point, Python would have given me an error.\n",
    "<br>\n",
    "<br>\n",
    "2) We got two different answers when using integer and floating point data types. When we summed the two integers 5 and 10, we got 15. When we summed the two floating point numbers 5.0 and 10.0, we got 15.0. Older versions of Python would output integers if you perform a mathematical operation using only integers. However, this was changed in Python 3. Python will output floating point numbers if you have at least one floating point number in your calculation.\n",
    "<br><br>\n",
    "3) I placed a space before and after the plus signs. I would get the exact same answers if the spaces weren't there, but the extra spaces help with code readability."
   ]
  },
  {
   "cell_type": "code",
   "execution_count": null,
   "metadata": {},
   "outputs": [],
   "source": [
    "#Subtraction\n",
    "print (10 - 5) "
   ]
  },
  {
   "cell_type": "code",
   "execution_count": null,
   "metadata": {},
   "outputs": [],
   "source": [
    "#Multiplication\n",
    "print (5 * 9)"
   ]
  },
  {
   "cell_type": "code",
   "execution_count": null,
   "metadata": {},
   "outputs": [],
   "source": [
    "#Division\n",
    "print(5 / 2)"
   ]
  },
  {
   "cell_type": "markdown",
   "metadata": {},
   "source": [
    "#### <font face = \"georgia\">Pause for Analysis #1: What type of data (integer, floating point number, string) did you get for the subtraction result? What about multiplication? Division?"
   ]
  },
  {
   "cell_type": "markdown",
   "metadata": {},
   "source": [
    "<font face = \"georgia\">It should be noted that Python follows the standard order of operations that you learned in grade school. So be careful when writing equations with multiple steps. For instance, the example below shows what can go wrong if things are placed in the wrong order. You might anticipate that the following equations all do the same thing, but, as we can see, that is not the case."
   ]
  },
  {
   "cell_type": "code",
   "execution_count": null,
   "metadata": {},
   "outputs": [],
   "source": [
    "print (9.0 * 8.0 - 13.0)\n",
    "print (9.0 * (8.0 - 13.0))\n",
    "print (8.0 - 13.0 * 9)\n",
    "print ((8.0 - 13.0) * 9)"
   ]
  },
  {
   "cell_type": "markdown",
   "metadata": {},
   "source": [
    "<font face = 'georgia'>In the following cell calculate the following: $\\dfrac{3}{5}-\\left(\\dfrac{19}{20}\\times4\\right)$. Print your answer and check with a neighbor to see if you got the same thing."
   ]
  },
  {
   "cell_type": "code",
   "execution_count": null,
   "metadata": {},
   "outputs": [],
   "source": []
  },
  {
   "cell_type": "markdown",
   "metadata": {},
   "source": [
    "<font face = \"georgia\"> We can also use exponents quite easily, though the syntax might be different than what you are used to."
   ]
  },
  {
   "cell_type": "code",
   "execution_count": null,
   "metadata": {},
   "outputs": [],
   "source": [
    "print (5 ** 2) #Double asterisks (*) are used to represent an exponent"
   ]
  },
  {
   "cell_type": "markdown",
   "metadata": {},
   "source": [
    "<font face = \"georgia\">Python can also make use of variables for computation. A variable can be as many characters long as you want; they can be as simple as single letters, like x or y, or as long as complicated phrases like Atkins_and_dePaula_wrote_my_PChem_textbook. You want to choose descriptive names for your variables, but you want to also keep variable names short since you will have to type them out each time you use them. Variables cannot have spaces in their names so dePaula is an acceptable variable, but de Paula is not. They cannot start with a number. Variables are case-sensitive, so x is a different variable than X. There are a number of words, such as print, that Python has reserved for special purposes; you cannot name your variable any of these reserved words. You will know you have typed a reserved word because it will appear green in your Notebook. Once a variable is assigned a value, it retains that value throughout a session until it is changed, thus you can use it in other cells."
   ]
  },
  {
   "cell_type": "code",
   "execution_count": null,
   "metadata": {},
   "outputs": [],
   "source": [
    "x = 5\n",
    "X = 10\n",
    "print (x, X) #I can print two separate things by separating them by a comma"
   ]
  },
  {
   "cell_type": "code",
   "execution_count": null,
   "metadata": {},
   "outputs": [],
   "source": [
    "apples = 10\n",
    "bananas = 8\n",
    "total_fruit = apples + bananas\n",
    "\n",
    "print (\"There are\", total_fruit, \"pieces of fruit in the basket.\")"
   ]
  },
  {
   "cell_type": "markdown",
   "metadata": {},
   "source": [
    "#### <font face = \"georgia\">Pause for Analysis #2: What do the quotes around \"There are\" and \"pieces of fruit in the basket.\" do? What is the purpose of the commas in the parenthesis?"
   ]
  },
  {
   "cell_type": "markdown",
   "metadata": {},
   "source": [
    "<font face = \"georgia\">As can be seen above, you can print strings and the values of variables together in a single line. As a reminder, when you use print with a string you will get the exact text back from Python, when you use print with a variable you will get the value of that variable. \n",
    "<br><br>\n",
    "In the cell below you should write a code that calculates the average height in inches of you and two other people in the class. To do this I would like you to create at least four variables, three for each of the heights and one for the average. To display your average I would like you to print a statement that reports the average height in a grammatically correct sentence.  "
   ]
  },
  {
   "cell_type": "code",
   "execution_count": null,
   "metadata": {},
   "outputs": [],
   "source": []
  },
  {
   "cell_type": "markdown",
   "metadata": {},
   "source": [
    "<font face = 'georgia'>Next, use the cell below to compute the value of the polynomial  $y = ax^3 + bx^2 + cx+d$ at $x = 2$ using $a = 3$, $b = 1$, $c = -3$, and $d = -5$. You should represent $x$, $a$, $b$, $c$, and $d$ as independent variables and y as a dependent variable. Before preceding you should check with a neighbor to ensure that they got the same value as you."
   ]
  },
  {
   "cell_type": "code",
   "execution_count": null,
   "metadata": {},
   "outputs": [],
   "source": [
    "a = 3\n",
    "b = 1\n",
    "c = -3\n",
    "d = -5"
   ]
  },
  {
   "cell_type": "markdown",
   "metadata": {},
   "source": [
    "<font face = \"georgia\"> So far we have discussed variables just having a single value, but often times we want to repeatedly perform a calculation on an array of numbers. An example of this might be if we wanted to plot the polynomial from the previous cell. Suppose we wanted our plot to cover the range $x = -5$ to $x = 5$. We would need to calculate $y$ at a sufficient number of points (~20) for our plot to be smooth. It would be tedious to input 20 different values of $x$ and perform the calculation one-by-one. Luckily, Python has a few different functions that we can use to create numerical arrays. The one that we will use most frequently is linspace and the cell below introduces this function."
   ]
  },
  {
   "cell_type": "code",
   "execution_count": null,
   "metadata": {},
   "outputs": [],
   "source": [
    "x = np.linspace(-5,5) #syntax for linspace is (start, stop, number of points); number of points is 50 by default"
   ]
  },
  {
   "cell_type": "markdown",
   "metadata": {},
   "source": [
    "<font face = \"georgia\">In the cell below create a new variable called x_10 which covers a range from -3 to 4 and has 10 points. Verify that it covers the expected range and does in fact have 10 points by printing it."
   ]
  },
  {
   "cell_type": "code",
   "execution_count": null,
   "metadata": {},
   "outputs": [],
   "source": []
  },
  {
   "cell_type": "markdown",
   "metadata": {},
   "source": [
    "#### <font face = \"georgia\">Pause for Analysis #3: An array is a sequence of values of the same data type. What data type did the linspace function make?"
   ]
  },
  {
   "cell_type": "markdown",
   "metadata": {},
   "source": [
    "<font face = \"georgia\"> For a variable like x_10, which has a limited number of points, it is easy enough to print it and look at each of them. However, we will sometimes use arrays that have many more points, but we will want to verify that it has the correct number of points. Luckily, Python has a function called shape that will tell us the dimensions of an array. The cell below uses shape to prove that x_10 is in fact a column of 10 numbers. Use shape to prove that the variable $x$ contains a column of 50 numbers."
   ]
  },
  {
   "cell_type": "code",
   "execution_count": null,
   "metadata": {},
   "outputs": [],
   "source": [
    "print (np.shape(x_10))\n",
    "print (np.shape(x))"
   ]
  },
  {
   "cell_type": "markdown",
   "metadata": {},
   "source": [
    "<font face = \"georgia\"> Now that we have verified that $x$ is an array of 50 points, use the equation from above to calculate $y$. When you do this, 50 values of $y$ will be calculated in a single line of code. Remember, you have already defined the variables $a$, $b$, $c$, and $d$, so you won't need to redefine them here (though you can if you would like). Verify that $y$ is an array of 50 points using the shape function."
   ]
  },
  {
   "cell_type": "code",
   "execution_count": null,
   "metadata": {},
   "outputs": [],
   "source": [
    "y = a * x ** 3 + b * x ** 2 + c * x + d\n",
    "print (np.shape(y))"
   ]
  },
  {
   "cell_type": "markdown",
   "metadata": {},
   "source": [
    "<font face = \"georgia\">As you progress during the semester you might forgot the syntax (the ordering and types of arguments) of our commonly used functions like np.linspace and np.shape. You can display the documentation for a function by typing help(function_name) or np.info(function_name). The documentation usually includes the syntax and the purpose of the function that you are using. \n",
    "<br><br>Another user friendly feature of IPython Notebook's is the ability to use tab completion. Tab completion is fairly ubiquitous in command-line environments. Tab completion works by pressing the tab key after you have typed part of a command. In the cell below explore tab completion and the help function."
   ]
  },
  {
   "cell_type": "code",
   "execution_count": null,
   "metadata": {},
   "outputs": [],
   "source": []
  },
  {
   "cell_type": "markdown",
   "metadata": {},
   "source": [
    "<font face = \"georgia\"> We got started on this endeavor of making arrays because we wanted to plot $y = ax^3 + bx^2 + cx + d$ from $x = -5$ to $x = 5$. Python has a function, conveniently called plot, which makes 2-D plots. Unfortunately the tooltip box that comes up for plot is worse than useless. To gain more insight into the plot function you will use Python's help function in the cell below. Typing help(plt.plot) will open a scrollable window in your Notebook that gives the full documentation for the function plot. \n",
    "<br><br>\n",
    "The basic syntax of the plot function is (x,y,formatstring). So the first argument is for the horizantal axis, the second argument is for the vertical axis, and the formatstring argument will let you format your plot. For instance, if you want red circle markers you would type 'ro'. The help documentation gives a complete list of the many color and line style options available.\n",
    "<br><br>The cell below plots $y = ax^3 + bx^2 + cx + d$ from $x = -5$ to $x = 5$ as a magenta dash-dot line and labels the x and y axes, try it!"
   ]
  },
  {
   "cell_type": "code",
   "execution_count": null,
   "metadata": {},
   "outputs": [],
   "source": [
    "plt.plot(x,y,'m-.')\n",
    "plt.xlabel('This is the x-axis')\n",
    "plt.ylabel('This is the y-axis')\n",
    "plt.show()"
   ]
  },
  {
   "cell_type": "markdown",
   "metadata": {},
   "source": [
    "<font face = \"georgia\">In the cell below plot the function $y = 4e^{-x ^{2}}$ from $x = -3$ to $x = 3$ as __green pentagons__. To make sure your curve is smooth use at least 100 points. Label your axes as x-axis and y-axis. You can add axis labels using the functions plt.xlabel and plt.ylabel. The command for the exponential function, $e$, is np.exp(), with the terms in the exponent included in the parenthesis, e.g. the code for $e^{abc^{5}}$ is np.exp(a$*$b$*$c**5). "
   ]
  },
  {
   "cell_type": "code",
   "execution_count": null,
   "metadata": {},
   "outputs": [],
   "source": []
  },
  {
   "cell_type": "markdown",
   "metadata": {},
   "source": [
    "<font face = \"georgia\">You have used a number of preset functions such as linspace and plot above, now we will cover the use of user defined functions. To define our own functions we will use the def command. The def command is followed by the name of the function and the the arguments of the function in parenthesis and then a colon. The next line will automatically be indented by Python. This is where you will input the commands of your function. You will end your function by typing return and what you want printed. An example for a simple addition program is given below. "
   ]
  },
  {
   "cell_type": "code",
   "execution_count": null,
   "metadata": {},
   "outputs": [],
   "source": [
    "def add(a, b):\n",
    "    print a, \"+\", b, \"is\"\n",
    "    return a + b"
   ]
  },
  {
   "cell_type": "markdown",
   "metadata": {},
   "source": [
    "<font face = 'georgia'>You can now easily add any two numbers using the function. I will add 9 and 13 in the cell below."
   ]
  },
  {
   "cell_type": "code",
   "execution_count": null,
   "metadata": {},
   "outputs": [],
   "source": [
    "add(9,13)"
   ]
  },
  {
   "cell_type": "markdown",
   "metadata": {},
   "source": [
    "<font face = \"georgia\">In the following cell make simple functions which subtract, multiply, and divide."
   ]
  },
  {
   "cell_type": "code",
   "execution_count": null,
   "metadata": {},
   "outputs": [],
   "source": []
  },
  {
   "cell_type": "markdown",
   "metadata": {},
   "source": [
    "<font face = 'georgia'>Verify that your subtract function works in the cell below."
   ]
  },
  {
   "cell_type": "code",
   "execution_count": null,
   "metadata": {},
   "outputs": [],
   "source": []
  },
  {
   "cell_type": "markdown",
   "metadata": {},
   "source": [
    "<font face = 'georgia'>Verify that your multiply function works in the cell below."
   ]
  },
  {
   "cell_type": "code",
   "execution_count": null,
   "metadata": {},
   "outputs": [],
   "source": []
  },
  {
   "cell_type": "markdown",
   "metadata": {},
   "source": [
    "<font face = 'georgia'>Verify that your divide function works in the cell below."
   ]
  },
  {
   "cell_type": "code",
   "execution_count": null,
   "metadata": {},
   "outputs": [],
   "source": []
  },
  {
   "cell_type": "markdown",
   "metadata": {},
   "source": [
    "<font face = \"georgia\">The last topic we will cover are error messages. Perhaps you have already encountered these above. If you haven't already, you will at some point in the course. Everyone makes mistakes while programming. The key is to learn how to understand the error messages that Python gives and use that information to fix your code. The cells below each contain at least one error. Run them first as they are written to see the error message and then go back and fix the cell."
   ]
  },
  {
   "cell_type": "markdown",
   "metadata": {},
   "source": [
    "#### <font face = \"georgia\">Pause for Analysis #4: For each of the cells below, describe what the error(s) in the code was (were) and what you did to fix it (them)."
   ]
  },
  {
   "cell_type": "code",
   "execution_count": null,
   "metadata": {},
   "outputs": [],
   "source": [
    "j = h ** 2\n",
    "h = np.linspace(-3,3,10)\n",
    "print \"The values of h are\", h\n",
    "print \"The values of j are\", j\n",
    "plt.plot(h,j)\n",
    "plt.show()"
   ]
  },
  {
   "cell_type": "code",
   "execution_count": null,
   "metadata": {},
   "outputs": [],
   "source": [
    "print I am so glad I am learning to program using Python."
   ]
  },
  {
   "cell_type": "code",
   "execution_count": null,
   "metadata": {},
   "outputs": [],
   "source": [
    "plot(x_10,y)\n",
    "plt.show()"
   ]
  },
  {
   "cell_type": "code",
   "execution_count": null,
   "metadata": {},
   "outputs": [],
   "source": [
    "cars = 100.0\n",
    "space_in_a_car = 4.0\n",
    "drivers = 30\n",
    "passengers = 90\n",
    "cars_not_driven = cars - drivers\n",
    "cars_driven = drivers\n",
    "carpool capacity = cars driven * space_in_a_car\n",
    "average_passengers_per_car = passengers / cars_driven\n",
    "\n",
    "print \"We have\", passengers, \"to carpool today.\n",
    "print \"We need to put about\", average_passengers_per_car, \"in each car."
   ]
  },
  {
   "cell_type": "code",
   "execution_count": null,
   "metadata": {},
   "outputs": [],
   "source": [
    "def polyf(a,b,c,d) #function to generate a cubic polynomial\n",
    "    x = np.linspace(a,b)\n",
    "    f = a * x ** 3 + b * x ** 2 + c * x + d\n",
    "    plt.plot(x,f)\n",
    "    plt.show()\n",
    "    return f\n",
    "polyf(-3,3,1)"
   ]
  },
  {
   "cell_type": "code",
   "execution_count": null,
   "metadata": {},
   "outputs": [],
   "source": [
    "First name = \"Joe\"\n",
    "Last_name = \"Biden\"\n",
    "print (\"The President of the United States of America is\", First_nmae, Last_name)"
   ]
  },
  {
   "cell_type": "code",
   "execution_count": null,
   "metadata": {},
   "outputs": [],
   "source": [
    "n = np.linespace(-3,3)\n",
    "m = n ** 2\n",
    "plt.plot(N,M)\n",
    "plt.show()"
   ]
  },
  {
   "cell_type": "code",
   "execution_count": null,
   "metadata": {},
   "outputs": [],
   "source": [
    "a = 3\n",
    "b = -4\n",
    "x = linspace(0,1.5)\n",
    "f_x = a * np.exp(bx)\n",
    "plt.plot(x,f_x)\n",
    "plt.show()"
   ]
  },
  {
   "cell_type": "markdown",
   "metadata": {},
   "source": [
    "<font face = \"georgia\"> "
   ]
  }
 ],
 "metadata": {
  "kernelspec": {
   "display_name": "Python 3",
   "language": "python",
   "name": "python3"
  },
  "language_info": {
   "codemirror_mode": {
    "name": "ipython",
    "version": 3
   },
   "file_extension": ".py",
   "mimetype": "text/x-python",
   "name": "python",
   "nbconvert_exporter": "python",
   "pygments_lexer": "ipython3",
   "version": "3.8.3"
  }
 },
 "nbformat": 4,
 "nbformat_minor": 1
}
